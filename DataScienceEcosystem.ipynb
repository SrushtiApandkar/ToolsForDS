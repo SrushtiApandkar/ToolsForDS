{
 "cells": [
  {
   "cell_type": "markdown",
   "id": "bf80cce9-f562-438e-ab83-e61b33077103",
   "metadata": {},
   "source": [
    "<h1>Data Science Tools and Ecosystem</h1>"
   ]
  },
  {
   "cell_type": "markdown",
   "id": "ab157d30-f172-4f9d-ac04-e9751e7b4d30",
   "metadata": {},
   "source": [
    "In this notebook, Data Science Tools and Ecosystem are summarised."
   ]
  },
  {
   "cell_type": "markdown",
   "id": "0917b843-19f7-42f6-93c3-fae34be36277",
   "metadata": {
    "tags": []
   },
   "source": [
    "<b>Objectives</b>\n",
    "\n",
    "<ul>List popular languages for data science\n",
    "    <li>R</li>\n",
    "    <li>Python</li>\n",
    "    <li>Tableau</li>\n",
    "    <li>Javascript</li>\n",
    "    <li>SQL</li>\n",
    "    </ul>"
   ]
  },
  {
   "cell_type": "markdown",
   "id": "89a69a1b-0bee-4c52-9263-b7dafcb4bb76",
   "metadata": {},
   "source": [
    "Some of the popular languages that data scientists use are: <br>\n",
    "\n",
    "<ol>\n",
    "    <li>R</li>\n",
    "    <li>Python</li>\n",
    "    <li>Javascript</li>\n",
    "</ol>    "
   ]
  },
  {
   "cell_type": "markdown",
   "id": "c3d14952-05c1-4d53-8c27-e72ed9b833ad",
   "metadata": {},
   "source": [
    "Some of the common libraries used by data scientist include:\n",
    "\n",
    "<ol>\n",
    "    <li>NumPy</li>\n",
    "    <li>Pandas</li>\n",
    "    <li>TensorFlow</li>\n",
    "    <li>SciPy</li>\n",
    "    <li>MatplotLib</li>\n",
    "</ol>    "
   ]
  },
  {
   "cell_type": "markdown",
   "id": "4bf2344f-4397-42aa-8664-fa44289ce257",
   "metadata": {},
   "source": [
    "<table style=\"width:20%\">\n",
    "    <tr>\n",
    "        <th>Data Science Tools</th>\n",
    "    </tr>\n",
    "    <tr>\n",
    "        <td>Jupyter Notebook</td>\n",
    "    </tr>\n",
    "    <tr>\n",
    "        <td>Tableau</td></tr>\n",
    "    <tr> <td>Excel</td> </tr>\n",
    "       <tr> <td>Power BI</td>\n",
    "    </tr>    \n",
    "</table>    "
   ]
  },
  {
   "cell_type": "markdown",
   "id": "725e8f17-196f-477d-b16d-235d94a85c88",
   "metadata": {},
   "source": [
    "<h3>Below are a few examples of evaluating arithmetic expressions in Python</h3>\n",
    "\n",
    "<ul>\n",
    "    <li>3+4</li>\n",
    "    <li>4-3</li>\n",
    "    <li>3*4</li>\n",
    "    <li>4/3</li>\n",
    "    </ul>\n"
   ]
  },
  {
   "cell_type": "code",
   "execution_count": 2,
   "id": "d03e18b5-11fe-4c80-b85c-bb9754bb5a03",
   "metadata": {
    "tags": []
   },
   "outputs": [
    {
     "data": {
      "text/plain": [
       "17"
      ]
     },
     "execution_count": 2,
     "metadata": {},
     "output_type": "execute_result"
    }
   ],
   "source": [
    "(3*4)+5  #this a simple arithmetic expression to mutiply then add integers"
   ]
  },
  {
   "cell_type": "code",
   "execution_count": 3,
   "id": "7ccb982e-62ae-4b76-ae7a-d272d19f6332",
   "metadata": {
    "tags": []
   },
   "outputs": [
    {
     "data": {
      "text/plain": [
       "3"
      ]
     },
     "execution_count": 3,
     "metadata": {},
     "output_type": "execute_result"
    }
   ],
   "source": [
    "# *This will convert 200 minutes to hours by diving by 60\n",
    "\n",
    "minutes = 200\n",
    "hours = minutes // 60\n",
    "hours"
   ]
  },
  {
   "cell_type": "markdown",
   "id": "c3a0b060-e097-4a1f-ba00-e270131535b4",
   "metadata": {},
   "source": [
    "<h2>Author</h2>\n",
    "\n",
    "Srushti Apandkar"
   ]
  },
  {
   "cell_type": "code",
   "execution_count": null,
   "id": "4b92d5f7-9d6d-4486-85cb-e68a94f5d738",
   "metadata": {},
   "outputs": [],
   "source": []
  }
 ],
 "metadata": {
  "kernelspec": {
   "display_name": "Python",
   "language": "python",
   "name": "conda-env-python-py"
  },
  "language_info": {
   "codemirror_mode": {
    "name": "ipython",
    "version": 3
   },
   "file_extension": ".py",
   "mimetype": "text/x-python",
   "name": "python",
   "nbconvert_exporter": "python",
   "pygments_lexer": "ipython3",
   "version": "3.7.12"
  }
 },
 "nbformat": 4,
 "nbformat_minor": 5
}
